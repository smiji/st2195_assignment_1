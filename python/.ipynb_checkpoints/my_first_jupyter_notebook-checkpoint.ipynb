{
 "cells": [
  {
   "cell_type": "markdown",
   "id": "61c4fc2e",
   "metadata": {},
   "source": [
    "# Introduction to python programming with Jupyter notebook"
   ]
  },
  {
   "cell_type": "markdown",
   "id": "cf1e1581",
   "metadata": {},
   "source": [
    "## Basic Markdown features\n",
    "Text can be made bold by prefixing and suffixing ** around the text\n",
    "Eg: **Please make be bold**\n",
    "\n",
    "Text can be made Italics by prefixing and suffixing * around the text\n",
    "Eg: *Please make be bold*\n",
    "\n",
    "Text can be made Bold Italics by prefixing and suffixing *** around the text\n",
    "Eg: ***Please make be bold***\n",
    "\n"
   ]
  },
  {
   "cell_type": "markdown",
   "id": "40b694b1",
   "metadata": {},
   "source": [
    "## Basic programming in python\n",
    "### print numbers 1 to 10 using a for loop, including 1 and 10\n"
   ]
  },
  {
   "cell_type": "code",
   "execution_count": 1,
   "id": "d0a57cc5",
   "metadata": {},
   "outputs": [
    {
     "name": "stdout",
     "output_type": "stream",
     "text": [
      "1\n",
      "2\n",
      "3\n",
      "4\n",
      "5\n",
      "6\n",
      "7\n",
      "8\n",
      "9\n"
     ]
    }
   ],
   "source": [
    "for i in range(1,10):\n",
    "    print(i)"
   ]
  },
  {
   "cell_type": "code",
   "execution_count": null,
   "id": "14d7c685",
   "metadata": {},
   "outputs": [],
   "source": []
  }
 ],
 "metadata": {
  "kernelspec": {
   "display_name": "Python 3 (ipykernel)",
   "language": "python",
   "name": "python3"
  },
  "language_info": {
   "codemirror_mode": {
    "name": "ipython",
    "version": 3
   },
   "file_extension": ".py",
   "mimetype": "text/x-python",
   "name": "python",
   "nbconvert_exporter": "python",
   "pygments_lexer": "ipython3",
   "version": "3.11.5"
  }
 },
 "nbformat": 4,
 "nbformat_minor": 5
}
