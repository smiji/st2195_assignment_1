{
 "cells": [
  {
   "cell_type": "markdown",
   "id": "61c4fc2e",
   "metadata": {},
   "source": [
    "# Introduction to python programming with Jupyter notebook"
   ]
  },
  {
   "cell_type": "markdown",
   "id": "cf1e1581",
   "metadata": {},
   "source": [
    "## Basic Markdown features\n",
    "Text can be made bold by prefixing and suffixing ** around the text\n",
    "Eg: **bold**\n",
    "\n",
    "Text can be made Italics by prefixing and suffixing * around the text\n",
    "Eg: *Italics*\n",
    "\n",
    "Text can be made Bold Italics by prefixing and suffixing *** around the text\n",
    "Eg: ***Bold Italics***\n",
    "\n"
   ]
  },
  {
   "cell_type": "markdown",
   "id": "40b694b1",
   "metadata": {},
   "source": [
    "## Basic programming in python\n",
    "### print numbers 1 to 10 using a for loop, including 1 and 10\n"
   ]
  },
  {
   "cell_type": "code",
   "execution_count": 7,
   "id": "14d7c685",
   "metadata": {},
   "outputs": [
    {
     "name": "stdout",
     "output_type": "stream",
     "text": [
      "1.0\n",
      "2.0\n",
      "3.0\n",
      "4.0\n",
      "5.0\n",
      "6.0\n",
      "7.0\n",
      "8.0\n",
      "9.0\n",
      "10.0\n"
     ]
    }
   ],
   "source": [
    "import numpy as np\n",
    "nn=np.linspace(start=1, stop=10, num=10)\n",
    "for i in nn:\n",
    "    print(i)\n"
   ]
  },
  {
   "cell_type": "code",
   "execution_count": null,
   "id": "691ee51d",
   "metadata": {},
   "outputs": [],
   "source": []
  }
 ],
 "metadata": {
  "kernelspec": {
   "display_name": "Python 3 (ipykernel)",
   "language": "python",
   "name": "python3"
  },
  "language_info": {
   "codemirror_mode": {
    "name": "ipython",
    "version": 3
   },
   "file_extension": ".py",
   "mimetype": "text/x-python",
   "name": "python",
   "nbconvert_exporter": "python",
   "pygments_lexer": "ipython3",
   "version": "3.11.5"
  }
 },
 "nbformat": 4,
 "nbformat_minor": 5
}
